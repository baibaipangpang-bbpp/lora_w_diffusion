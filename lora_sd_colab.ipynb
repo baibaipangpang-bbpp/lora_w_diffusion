{
 "cells": [
  {
   "cell_type": "code",
   "execution_count": null,
   "metadata": {
    "colab": {
     "base_uri": "https://localhost:8080/"
    },
    "executionInfo": {
     "elapsed": 2013,
     "status": "ok",
     "timestamp": 1748047483869,
     "user": {
      "displayName": "bb pp",
      "userId": "16815652203474642090"
     },
     "user_tz": 420
    },
    "id": "mtM0VRMI3Nb1",
    "outputId": "227e59da-fb90-4485-e0b9-82cebb416380"
   },
   "outputs": [],
   "source": [
    "# This mounts your Google Drive to the Colab VM.\n",
    "from google.colab import drive\n",
    "import os\n",
    "import sys\n",
    "\n",
    "drive.mount('/content/drive', force_remount=True)\n",
    "\n",
    "# TODO: Enter the foldername in your Drive where you have saved the unzipped\n",
    "# assignment folder, e.g. 'cs231n/assignments/assignment3/'\n",
    "FOLDERNAME = \"cs231n/project/\"\n",
    "assert FOLDERNAME is not None, \"[!] Enter the foldername.\"\n",
    "PROJECT_PATH = f\"/content/drive/My Drive/{FOLDERNAME}\"\n",
    "sys.path.append(PROJECT_PATH)\n",
    "\n",
    "# Change working directory\n",
    "os.chdir(PROJECT_PATH)\n",
    "\n",
    "# Confirm\n",
    "print(\"✅ Current working directory:\", os.getcwd())\n",
    "print(\"📁 Contents:\", os.listdir('.'))"
   ]
  },
  {
   "cell_type": "markdown",
   "metadata": {
    "id": "TRetkHCR2ke0"
   },
   "source": [
    "# 💡 LoRA Training on Stable Diffusion\n",
    "This notebook trains custom LoRA adapters on Stable Diffusion using your own image-caption pairs.\n"
   ]
  },
  {
   "cell_type": "code",
   "execution_count": null,
   "metadata": {
    "executionInfo": {
     "elapsed": 2514,
     "status": "ok",
     "timestamp": 1748047486383,
     "user": {
      "displayName": "bb pp",
      "userId": "16815652203474642090"
     },
     "user_tz": 420
    },
    "id": "wnov-IWl2ke1"
   },
   "outputs": [],
   "source": [
    "!pip install -q diffusers transformers accelerate torchvision safetensors"
   ]
  },
  {
   "cell_type": "code",
   "execution_count": null,
   "metadata": {
    "executionInfo": {
     "elapsed": 1685,
     "status": "ok",
     "timestamp": 1748047488069,
     "user": {
      "displayName": "bb pp",
      "userId": "16815652203474642090"
     },
     "user_tz": 420
    },
    "id": "AdsERWFD2ke2"
   },
   "outputs": [],
   "source": [
    "from lora import LoRALinear\n",
    "from patch_unet import patch_unet_with_lora"
   ]
  },
  {
   "cell_type": "markdown",
   "metadata": {
    "id": "Tjd5UBjt2ke3"
   },
   "source": [
    "## Data Preparation"
   ]
  },
  {
   "cell_type": "code",
   "execution_count": null,
   "metadata": {
    "executionInfo": {
     "elapsed": 7151,
     "status": "ok",
     "timestamp": 1748047495228,
     "user": {
      "displayName": "bb pp",
      "userId": "16815652203474642090"
     },
     "user_tz": 420
    },
    "id": "_4907-Xf2ke3"
   },
   "outputs": [],
   "source": [
    "import torch\n",
    "from torch import nn\n",
    "from torch.utils.data import Dataset, DataLoader\n",
    "from torchvision import transforms\n",
    "from PIL import Image\n",
    "import os\n",
    "from diffusers import StableDiffusionPipeline\n",
    "from patch_unet import patch_unet_with_lora\n",
    "\n",
    "class ImageTextDataset(Dataset):\n",
    "    def __init__(self, files):\n",
    "        self.samples = []\n",
    "        for name in files.keys():\n",
    "            if name.endswith(\".png\") or name.endswith(\".jpg\"):\n",
    "                txt = name.rsplit(\".\", 1)[0] + \".txt\"\n",
    "                if txt in files:\n",
    "                    self.samples.append((name, txt))\n",
    "        self.transform = transforms.Compose([\n",
    "            transforms.Resize((512, 512)),\n",
    "            transforms.ToTensor(),\n",
    "            transforms.Normalize([0.5], [0.5])\n",
    "        ])\n",
    "\n",
    "    def __len__(self):\n",
    "        return len(self.samples)\n",
    "\n",
    "    def __getitem__(self, idx):\n",
    "        img_file, txt_file = self.samples[idx]\n",
    "        image = Image.open(img_file).convert(\"RGB\")\n",
    "        image = self.transform(image)\n",
    "        caption = files[txt_file].decode()\n",
    "        return image, caption\n",
    "\n",
    "\n",
    "class ImageTextDataset(Dataset):\n",
    "    def __init__(self, root_dir=\"data\"):\n",
    "        self.root_dir = root_dir\n",
    "        self.samples = []\n",
    "        for fname in os.listdir(root_dir):\n",
    "            if fname.lower().endswith((\".jpg\", \".png\")):\n",
    "                basename = os.path.splitext(fname)[0]\n",
    "                txt_path = os.path.join(root_dir, basename + \".txt\")\n",
    "                if os.path.exists(txt_path):\n",
    "                    self.samples.append((os.path.join(root_dir, fname), txt_path))\n",
    "\n",
    "        self.transform = transforms.Compose([\n",
    "            transforms.Resize((512, 512)),\n",
    "            transforms.ToTensor(),\n",
    "            transforms.Normalize([0.5], [0.5])\n",
    "        ])\n",
    "\n",
    "    def __len__(self):\n",
    "        return len(self.samples)\n",
    "\n",
    "    def __getitem__(self, idx):\n",
    "        img_path, txt_path = self.samples[idx]\n",
    "        image = Image.open(img_path).convert(\"RGB\")\n",
    "        image = self.transform(image)\n",
    "        with open(txt_path, \"r\") as f:\n",
    "            caption = f.read().strip()\n",
    "        return image, caption\n"
   ]
  },
  {
   "cell_type": "code",
   "execution_count": null,
   "metadata": {
    "colab": {
     "base_uri": "https://localhost:8080/"
    },
    "executionInfo": {
     "elapsed": 3,
     "status": "ok",
     "timestamp": 1748047495232,
     "user": {
      "displayName": "bb pp",
      "userId": "16815652203474642090"
     },
     "user_tz": 420
    },
    "id": "z1Qra-I58jUL",
    "outputId": "4d34df00-e5bb-4412-b2fc-e4a07035cb3e"
   },
   "outputs": [],
   "source": [
    "dataset = ImageTextDataset(\"data\")\n",
    "loader = DataLoader(dataset, batch_size=1, shuffle=True)\n",
    "# sanity check for datasets\n",
    "print(f\"Number of image-caption pairs: {len(dataset)}\")"
   ]
  },
  {
   "cell_type": "code",
   "execution_count": null,
   "metadata": {
    "executionInfo": {
     "elapsed": 1,
     "status": "ok",
     "timestamp": 1748047495234,
     "user": {
      "displayName": "bb pp",
      "userId": "16815652203474642090"
     },
     "user_tz": 420
    },
    "id": "lY8Kqiu3eZF2"
   },
   "outputs": [],
   "source": [
    "# suppress warnings due to missing fonts.\n",
    "import warnings\n",
    "import re\n",
    "\n",
    "# This regex will match messages containing \"Glyph\" and \"missing from font\"\n",
    "warnings.filterwarnings(\"ignore\", category=UserWarning, message=r\"Glyph .* missing from font\\(s\\) DejaVu Sans\\.\")\n"
   ]
  },
  {
   "cell_type": "code",
   "execution_count": null,
   "metadata": {
    "colab": {
     "base_uri": "https://localhost:8080/",
     "height": 1000
    },
    "executionInfo": {
     "elapsed": 633,
     "status": "ok",
     "timestamp": 1748047495867,
     "user": {
      "displayName": "bb pp",
      "userId": "16815652203474642090"
     },
     "user_tz": 420
    },
    "id": "IgZYv9Qr-fuV",
    "outputId": "18c715be-1b27-4978-f3f9-bb6197c9b7ed"
   },
   "outputs": [],
   "source": [
    "# preview a couple of images.\n",
    "from matplotlib import pyplot as plt\n",
    "\n",
    "for i in range(min(3, len(dataset))):  # Show up to 3 examples\n",
    "    image, caption = dataset[i]\n",
    "    plt.imshow(image.permute(1, 2, 0).numpy() * 0.5 + 0.5)  # Undo normalization\n",
    "    plt.axis(\"off\")\n",
    "    plt.title(caption)\n",
    "    plt.show()\n"
   ]
  },
  {
   "cell_type": "markdown",
   "metadata": {
    "id": "ejszCma45YBl"
   },
   "source": [
    "## Training Logic for Lora Finetuning"
   ]
  },
  {
   "cell_type": "code",
   "execution_count": null,
   "metadata": {
    "colab": {
     "base_uri": "https://localhost:8080/",
     "height": 176,
     "referenced_widgets": [
      "925c1ade1d144a219add2f3313eb2601",
      "d9c515e895f54e8584c80cd39b66500d",
      "1128cce3510b487f80697218dfeb172f",
      "8b9617a79cd94c459891599960e60a70",
      "e056695819744aa7be0de2df1decb05c",
      "9b9cbb7089594b17a74e6c8f8a1fd48e",
      "51b0f11723894ef680ea7be06ebcf62c",
      "ea327ce23212465e88baf32bb618befa",
      "9bf47808467d4ecd9942d9599d30782d",
      "fb5ac4b938c64b1e99a1d5807246ac77",
      "2bdc90e3c6c64d26a1327e6463346801"
     ]
    },
    "executionInfo": {
     "elapsed": 3298,
     "status": "ok",
     "timestamp": 1748047499167,
     "user": {
      "displayName": "bb pp",
      "userId": "16815652203474642090"
     },
     "user_tz": 420
    },
    "id": "_LsuFYFH783B",
    "outputId": "c9a98c64-a172-4d80-fc0e-851e1dab76f2"
   },
   "outputs": [],
   "source": [
    "device = \"cuda\"\n",
    "\n",
    "pipe = StableDiffusionPipeline.from_pretrained(\"CompVis/stable-diffusion-v1-4\", torch_dtype=torch.float32).to(device)\n",
    "\n",
    "pipe.vae.requires_grad_(False)\n",
    "pipe.text_encoder.requires_grad_(False)\n",
    "pipe.unet.requires_grad_(False)\n",
    "\n",
    "# ADD LORA\n",
    "patch_unet_with_lora(pipe.unet, r=4, alpha=1.0, dropout=0.0)\n",
    "pipe.unet.to(device)  # Move after patching\n",
    "\n",
    "# unfreeze lora weights\n",
    "for module in pipe.unet.modules():\n",
    "    if \"LoRALinear\" in str(type(module)):\n",
    "        for p in module.parameters():\n",
    "            p.requires_grad = True\n",
    "\n",
    "optimizer = torch.optim.Adam([p for p in pipe.unet.parameters() if p.requires_grad], lr=1e-4)\n"
   ]
  },
  {
   "cell_type": "code",
   "execution_count": null,
   "metadata": {
    "colab": {
     "base_uri": "https://localhost:8080/"
    },
    "executionInfo": {
     "elapsed": 377862,
     "status": "ok",
     "timestamp": 1748048128936,
     "user": {
      "displayName": "bb pp",
      "userId": "16815652203474642090"
     },
     "user_tz": 420
    },
    "id": "52d-NbgAA3nY",
    "outputId": "87ca7f5a-9d5d-4cca-874c-69fb22fb6e1f"
   },
   "outputs": [],
   "source": [
    "# training\n",
    "for epoch in range(10):\n",
    "    for i, (images, captions) in enumerate(loader):\n",
    "        # Keep images in float32\n",
    "        images = images.to(device)\n",
    "\n",
    "        text_input = pipe.tokenizer(captions, padding=\"max_length\", max_length=77, return_tensors=\"pt\").to(device)\n",
    "        text_embeds = pipe.text_encoder(**text_input).last_hidden_state.to(device)  # stays float32\n",
    "\n",
    "        with torch.no_grad():\n",
    "            vae_output = pipe.vae.encode(images)\n",
    "        latents = vae_output.latent_dist.sample().to(device) * 0.18215  # float32\n",
    "\n",
    "        noise = torch.randn_like(latents).to(device)  # float32 noise\n",
    "        timesteps = torch.randint(0, 1000, (latents.shape[0],), device=device).long()\n",
    "\n",
    "        noisy_latents = pipe.scheduler.add_noise(latents, noise, timesteps)\n",
    "\n",
    "        noise_pred = pipe.unet(noisy_latents, timesteps, encoder_hidden_states=text_embeds).sample  # float32\n",
    "\n",
    "        loss = nn.MSELoss()(noise_pred, noise)\n",
    "        loss.backward()\n",
    "        optimizer.step()\n",
    "        optimizer.zero_grad()\n",
    "\n",
    "        print(f\"Epoch {epoch} Step {i} Loss: {loss.item():.4f}\")"
   ]
  },
  {
   "cell_type": "code",
   "execution_count": null,
   "metadata": {
    "executionInfo": {
     "elapsed": 56,
     "status": "ok",
     "timestamp": 1748048163688,
     "user": {
      "displayName": "bb pp",
      "userId": "16815652203474642090"
     },
     "user_tz": 420
    },
    "id": "SVO2RAhAHSkB"
   },
   "outputs": [],
   "source": [
    "# save model parameters\n",
    "\n",
    "torch.save(\n",
    "    {k: v.cpu() for k, v in pipe.unet.state_dict().items() if \"lora\" in k},\n",
    "    \"lora_weights.pth\"\n",
    ")"
   ]
  },
  {
   "cell_type": "markdown",
   "metadata": {
    "id": "lNvSdhEF2ke3"
   },
   "source": [
    "## Generate images with Trained LoRA"
   ]
  },
  {
   "cell_type": "code",
   "execution_count": null,
   "metadata": {
    "colab": {
     "base_uri": "https://localhost:8080/",
     "height": 561,
     "referenced_widgets": [
      "5e53c498b7934af687e7a7ac43560396",
      "07e228179cfb452daac6381d75856158",
      "9ed04074e4a34248ad7736e7867cc9fe",
      "e6f1144742854327b0616c871065f3b9",
      "236ede1d324346c78d791ca561dd1ff7",
      "35a741c7a6154348ac8ed52b69b6d9f1",
      "de5f22ca8a724a65a4449c8f35845269",
      "ce17f6cdda75486f9ea22c00e5b8154e",
      "f1e171c8a25a46f69280286bc61d19c7",
      "bdb06f2571c2401eb9d3d4312b6c3cdf",
      "2a429405ecb94296b145ad2eb381bdc1"
     ]
    },
    "executionInfo": {
     "elapsed": 6961,
     "status": "ok",
     "timestamp": 1748048187011,
     "user": {
      "displayName": "bb pp",
      "userId": "16815652203474642090"
     },
     "user_tz": 420
    },
    "id": "_yBa3fwq2ke4",
    "outputId": "de949e29-ffc5-40e7-96ae-00ef1cac84ab"
   },
   "outputs": [],
   "source": [
    "state_dict = torch.load(\"lora_weights.pth\", map_location=device)\n",
    "patch_unet_with_lora(pipe.unet, r=4, alpha=1.0)\n",
    "pipe.unet.load_state_dict(state_dict, strict=False)\n",
    "pipe.unet.eval()\n",
    "\n",
    "prompt = \"米芾\"\n",
    "image = pipe(prompt, num_inference_steps=30).images[0]\n",
    "image.save(\"generated.png\")\n",
    "image.show()\n",
    "display(image)   # shows inline in the notebook\n"
   ]
  },
  {
   "cell_type": "code",
   "execution_count": null,
   "metadata": {
    "id": "DEht4aJWC9kF"
   },
   "outputs": [],
   "source": []
  }
 ],
 "metadata": {
  "accelerator": "GPU",
  "colab": {
   "gpuType": "L4",
   "machine_shape": "hm",
   "provenance": []
  },
  "kernelspec": {
   "display_name": "Python 3",
   "name": "python3"
  },
  "language_info": {
   "name": "python"
  },
  "widgets": {
   "application/vnd.jupyter.widget-state+json": {
    "07e228179cfb452daac6381d75856158": {
     "model_module": "@jupyter-widgets/controls",
     "model_module_version": "1.5.0",
     "model_name": "HTMLModel",
     "state": {
      "_dom_classes": [],
      "_model_module": "@jupyter-widgets/controls",
      "_model_module_version": "1.5.0",
      "_model_name": "HTMLModel",
      "_view_count": null,
      "_view_module": "@jupyter-widgets/controls",
      "_view_module_version": "1.5.0",
      "_view_name": "HTMLView",
      "description": "",
      "description_tooltip": null,
      "layout": "IPY_MODEL_35a741c7a6154348ac8ed52b69b6d9f1",
      "placeholder": "​",
      "style": "IPY_MODEL_de5f22ca8a724a65a4449c8f35845269",
      "value": "100%"
     }
    },
    "1128cce3510b487f80697218dfeb172f": {
     "model_module": "@jupyter-widgets/controls",
     "model_module_version": "1.5.0",
     "model_name": "FloatProgressModel",
     "state": {
      "_dom_classes": [],
      "_model_module": "@jupyter-widgets/controls",
      "_model_module_version": "1.5.0",
      "_model_name": "FloatProgressModel",
      "_view_count": null,
      "_view_module": "@jupyter-widgets/controls",
      "_view_module_version": "1.5.0",
      "_view_name": "ProgressView",
      "bar_style": "success",
      "description": "",
      "description_tooltip": null,
      "layout": "IPY_MODEL_ea327ce23212465e88baf32bb618befa",
      "max": 7,
      "min": 0,
      "orientation": "horizontal",
      "style": "IPY_MODEL_9bf47808467d4ecd9942d9599d30782d",
      "value": 7
     }
    },
    "236ede1d324346c78d791ca561dd1ff7": {
     "model_module": "@jupyter-widgets/base",
     "model_module_version": "1.2.0",
     "model_name": "LayoutModel",
     "state": {
      "_model_module": "@jupyter-widgets/base",
      "_model_module_version": "1.2.0",
      "_model_name": "LayoutModel",
      "_view_count": null,
      "_view_module": "@jupyter-widgets/base",
      "_view_module_version": "1.2.0",
      "_view_name": "LayoutView",
      "align_content": null,
      "align_items": null,
      "align_self": null,
      "border": null,
      "bottom": null,
      "display": null,
      "flex": null,
      "flex_flow": null,
      "grid_area": null,
      "grid_auto_columns": null,
      "grid_auto_flow": null,
      "grid_auto_rows": null,
      "grid_column": null,
      "grid_gap": null,
      "grid_row": null,
      "grid_template_areas": null,
      "grid_template_columns": null,
      "grid_template_rows": null,
      "height": null,
      "justify_content": null,
      "justify_items": null,
      "left": null,
      "margin": null,
      "max_height": null,
      "max_width": null,
      "min_height": null,
      "min_width": null,
      "object_fit": null,
      "object_position": null,
      "order": null,
      "overflow": null,
      "overflow_x": null,
      "overflow_y": null,
      "padding": null,
      "right": null,
      "top": null,
      "visibility": null,
      "width": null
     }
    },
    "2a429405ecb94296b145ad2eb381bdc1": {
     "model_module": "@jupyter-widgets/controls",
     "model_module_version": "1.5.0",
     "model_name": "DescriptionStyleModel",
     "state": {
      "_model_module": "@jupyter-widgets/controls",
      "_model_module_version": "1.5.0",
      "_model_name": "DescriptionStyleModel",
      "_view_count": null,
      "_view_module": "@jupyter-widgets/base",
      "_view_module_version": "1.2.0",
      "_view_name": "StyleView",
      "description_width": ""
     }
    },
    "2bdc90e3c6c64d26a1327e6463346801": {
     "model_module": "@jupyter-widgets/controls",
     "model_module_version": "1.5.0",
     "model_name": "DescriptionStyleModel",
     "state": {
      "_model_module": "@jupyter-widgets/controls",
      "_model_module_version": "1.5.0",
      "_model_name": "DescriptionStyleModel",
      "_view_count": null,
      "_view_module": "@jupyter-widgets/base",
      "_view_module_version": "1.2.0",
      "_view_name": "StyleView",
      "description_width": ""
     }
    },
    "35a741c7a6154348ac8ed52b69b6d9f1": {
     "model_module": "@jupyter-widgets/base",
     "model_module_version": "1.2.0",
     "model_name": "LayoutModel",
     "state": {
      "_model_module": "@jupyter-widgets/base",
      "_model_module_version": "1.2.0",
      "_model_name": "LayoutModel",
      "_view_count": null,
      "_view_module": "@jupyter-widgets/base",
      "_view_module_version": "1.2.0",
      "_view_name": "LayoutView",
      "align_content": null,
      "align_items": null,
      "align_self": null,
      "border": null,
      "bottom": null,
      "display": null,
      "flex": null,
      "flex_flow": null,
      "grid_area": null,
      "grid_auto_columns": null,
      "grid_auto_flow": null,
      "grid_auto_rows": null,
      "grid_column": null,
      "grid_gap": null,
      "grid_row": null,
      "grid_template_areas": null,
      "grid_template_columns": null,
      "grid_template_rows": null,
      "height": null,
      "justify_content": null,
      "justify_items": null,
      "left": null,
      "margin": null,
      "max_height": null,
      "max_width": null,
      "min_height": null,
      "min_width": null,
      "object_fit": null,
      "object_position": null,
      "order": null,
      "overflow": null,
      "overflow_x": null,
      "overflow_y": null,
      "padding": null,
      "right": null,
      "top": null,
      "visibility": null,
      "width": null
     }
    },
    "51b0f11723894ef680ea7be06ebcf62c": {
     "model_module": "@jupyter-widgets/controls",
     "model_module_version": "1.5.0",
     "model_name": "DescriptionStyleModel",
     "state": {
      "_model_module": "@jupyter-widgets/controls",
      "_model_module_version": "1.5.0",
      "_model_name": "DescriptionStyleModel",
      "_view_count": null,
      "_view_module": "@jupyter-widgets/base",
      "_view_module_version": "1.2.0",
      "_view_name": "StyleView",
      "description_width": ""
     }
    },
    "5e53c498b7934af687e7a7ac43560396": {
     "model_module": "@jupyter-widgets/controls",
     "model_module_version": "1.5.0",
     "model_name": "HBoxModel",
     "state": {
      "_dom_classes": [],
      "_model_module": "@jupyter-widgets/controls",
      "_model_module_version": "1.5.0",
      "_model_name": "HBoxModel",
      "_view_count": null,
      "_view_module": "@jupyter-widgets/controls",
      "_view_module_version": "1.5.0",
      "_view_name": "HBoxView",
      "box_style": "",
      "children": [
       "IPY_MODEL_07e228179cfb452daac6381d75856158",
       "IPY_MODEL_9ed04074e4a34248ad7736e7867cc9fe",
       "IPY_MODEL_e6f1144742854327b0616c871065f3b9"
      ],
      "layout": "IPY_MODEL_236ede1d324346c78d791ca561dd1ff7"
     }
    },
    "8b9617a79cd94c459891599960e60a70": {
     "model_module": "@jupyter-widgets/controls",
     "model_module_version": "1.5.0",
     "model_name": "HTMLModel",
     "state": {
      "_dom_classes": [],
      "_model_module": "@jupyter-widgets/controls",
      "_model_module_version": "1.5.0",
      "_model_name": "HTMLModel",
      "_view_count": null,
      "_view_module": "@jupyter-widgets/controls",
      "_view_module_version": "1.5.0",
      "_view_name": "HTMLView",
      "description": "",
      "description_tooltip": null,
      "layout": "IPY_MODEL_fb5ac4b938c64b1e99a1d5807246ac77",
      "placeholder": "​",
      "style": "IPY_MODEL_2bdc90e3c6c64d26a1327e6463346801",
      "value": " 7/7 [00:00&lt;00:00,  6.33it/s]"
     }
    },
    "925c1ade1d144a219add2f3313eb2601": {
     "model_module": "@jupyter-widgets/controls",
     "model_module_version": "1.5.0",
     "model_name": "HBoxModel",
     "state": {
      "_dom_classes": [],
      "_model_module": "@jupyter-widgets/controls",
      "_model_module_version": "1.5.0",
      "_model_name": "HBoxModel",
      "_view_count": null,
      "_view_module": "@jupyter-widgets/controls",
      "_view_module_version": "1.5.0",
      "_view_name": "HBoxView",
      "box_style": "",
      "children": [
       "IPY_MODEL_d9c515e895f54e8584c80cd39b66500d",
       "IPY_MODEL_1128cce3510b487f80697218dfeb172f",
       "IPY_MODEL_8b9617a79cd94c459891599960e60a70"
      ],
      "layout": "IPY_MODEL_e056695819744aa7be0de2df1decb05c"
     }
    },
    "9b9cbb7089594b17a74e6c8f8a1fd48e": {
     "model_module": "@jupyter-widgets/base",
     "model_module_version": "1.2.0",
     "model_name": "LayoutModel",
     "state": {
      "_model_module": "@jupyter-widgets/base",
      "_model_module_version": "1.2.0",
      "_model_name": "LayoutModel",
      "_view_count": null,
      "_view_module": "@jupyter-widgets/base",
      "_view_module_version": "1.2.0",
      "_view_name": "LayoutView",
      "align_content": null,
      "align_items": null,
      "align_self": null,
      "border": null,
      "bottom": null,
      "display": null,
      "flex": null,
      "flex_flow": null,
      "grid_area": null,
      "grid_auto_columns": null,
      "grid_auto_flow": null,
      "grid_auto_rows": null,
      "grid_column": null,
      "grid_gap": null,
      "grid_row": null,
      "grid_template_areas": null,
      "grid_template_columns": null,
      "grid_template_rows": null,
      "height": null,
      "justify_content": null,
      "justify_items": null,
      "left": null,
      "margin": null,
      "max_height": null,
      "max_width": null,
      "min_height": null,
      "min_width": null,
      "object_fit": null,
      "object_position": null,
      "order": null,
      "overflow": null,
      "overflow_x": null,
      "overflow_y": null,
      "padding": null,
      "right": null,
      "top": null,
      "visibility": null,
      "width": null
     }
    },
    "9bf47808467d4ecd9942d9599d30782d": {
     "model_module": "@jupyter-widgets/controls",
     "model_module_version": "1.5.0",
     "model_name": "ProgressStyleModel",
     "state": {
      "_model_module": "@jupyter-widgets/controls",
      "_model_module_version": "1.5.0",
      "_model_name": "ProgressStyleModel",
      "_view_count": null,
      "_view_module": "@jupyter-widgets/base",
      "_view_module_version": "1.2.0",
      "_view_name": "StyleView",
      "bar_color": null,
      "description_width": ""
     }
    },
    "9ed04074e4a34248ad7736e7867cc9fe": {
     "model_module": "@jupyter-widgets/controls",
     "model_module_version": "1.5.0",
     "model_name": "FloatProgressModel",
     "state": {
      "_dom_classes": [],
      "_model_module": "@jupyter-widgets/controls",
      "_model_module_version": "1.5.0",
      "_model_name": "FloatProgressModel",
      "_view_count": null,
      "_view_module": "@jupyter-widgets/controls",
      "_view_module_version": "1.5.0",
      "_view_name": "ProgressView",
      "bar_style": "success",
      "description": "",
      "description_tooltip": null,
      "layout": "IPY_MODEL_ce17f6cdda75486f9ea22c00e5b8154e",
      "max": 30,
      "min": 0,
      "orientation": "horizontal",
      "style": "IPY_MODEL_f1e171c8a25a46f69280286bc61d19c7",
      "value": 30
     }
    },
    "bdb06f2571c2401eb9d3d4312b6c3cdf": {
     "model_module": "@jupyter-widgets/base",
     "model_module_version": "1.2.0",
     "model_name": "LayoutModel",
     "state": {
      "_model_module": "@jupyter-widgets/base",
      "_model_module_version": "1.2.0",
      "_model_name": "LayoutModel",
      "_view_count": null,
      "_view_module": "@jupyter-widgets/base",
      "_view_module_version": "1.2.0",
      "_view_name": "LayoutView",
      "align_content": null,
      "align_items": null,
      "align_self": null,
      "border": null,
      "bottom": null,
      "display": null,
      "flex": null,
      "flex_flow": null,
      "grid_area": null,
      "grid_auto_columns": null,
      "grid_auto_flow": null,
      "grid_auto_rows": null,
      "grid_column": null,
      "grid_gap": null,
      "grid_row": null,
      "grid_template_areas": null,
      "grid_template_columns": null,
      "grid_template_rows": null,
      "height": null,
      "justify_content": null,
      "justify_items": null,
      "left": null,
      "margin": null,
      "max_height": null,
      "max_width": null,
      "min_height": null,
      "min_width": null,
      "object_fit": null,
      "object_position": null,
      "order": null,
      "overflow": null,
      "overflow_x": null,
      "overflow_y": null,
      "padding": null,
      "right": null,
      "top": null,
      "visibility": null,
      "width": null
     }
    },
    "ce17f6cdda75486f9ea22c00e5b8154e": {
     "model_module": "@jupyter-widgets/base",
     "model_module_version": "1.2.0",
     "model_name": "LayoutModel",
     "state": {
      "_model_module": "@jupyter-widgets/base",
      "_model_module_version": "1.2.0",
      "_model_name": "LayoutModel",
      "_view_count": null,
      "_view_module": "@jupyter-widgets/base",
      "_view_module_version": "1.2.0",
      "_view_name": "LayoutView",
      "align_content": null,
      "align_items": null,
      "align_self": null,
      "border": null,
      "bottom": null,
      "display": null,
      "flex": null,
      "flex_flow": null,
      "grid_area": null,
      "grid_auto_columns": null,
      "grid_auto_flow": null,
      "grid_auto_rows": null,
      "grid_column": null,
      "grid_gap": null,
      "grid_row": null,
      "grid_template_areas": null,
      "grid_template_columns": null,
      "grid_template_rows": null,
      "height": null,
      "justify_content": null,
      "justify_items": null,
      "left": null,
      "margin": null,
      "max_height": null,
      "max_width": null,
      "min_height": null,
      "min_width": null,
      "object_fit": null,
      "object_position": null,
      "order": null,
      "overflow": null,
      "overflow_x": null,
      "overflow_y": null,
      "padding": null,
      "right": null,
      "top": null,
      "visibility": null,
      "width": null
     }
    },
    "d9c515e895f54e8584c80cd39b66500d": {
     "model_module": "@jupyter-widgets/controls",
     "model_module_version": "1.5.0",
     "model_name": "HTMLModel",
     "state": {
      "_dom_classes": [],
      "_model_module": "@jupyter-widgets/controls",
      "_model_module_version": "1.5.0",
      "_model_name": "HTMLModel",
      "_view_count": null,
      "_view_module": "@jupyter-widgets/controls",
      "_view_module_version": "1.5.0",
      "_view_name": "HTMLView",
      "description": "",
      "description_tooltip": null,
      "layout": "IPY_MODEL_9b9cbb7089594b17a74e6c8f8a1fd48e",
      "placeholder": "​",
      "style": "IPY_MODEL_51b0f11723894ef680ea7be06ebcf62c",
      "value": "Loading pipeline components...: 100%"
     }
    },
    "de5f22ca8a724a65a4449c8f35845269": {
     "model_module": "@jupyter-widgets/controls",
     "model_module_version": "1.5.0",
     "model_name": "DescriptionStyleModel",
     "state": {
      "_model_module": "@jupyter-widgets/controls",
      "_model_module_version": "1.5.0",
      "_model_name": "DescriptionStyleModel",
      "_view_count": null,
      "_view_module": "@jupyter-widgets/base",
      "_view_module_version": "1.2.0",
      "_view_name": "StyleView",
      "description_width": ""
     }
    },
    "e056695819744aa7be0de2df1decb05c": {
     "model_module": "@jupyter-widgets/base",
     "model_module_version": "1.2.0",
     "model_name": "LayoutModel",
     "state": {
      "_model_module": "@jupyter-widgets/base",
      "_model_module_version": "1.2.0",
      "_model_name": "LayoutModel",
      "_view_count": null,
      "_view_module": "@jupyter-widgets/base",
      "_view_module_version": "1.2.0",
      "_view_name": "LayoutView",
      "align_content": null,
      "align_items": null,
      "align_self": null,
      "border": null,
      "bottom": null,
      "display": null,
      "flex": null,
      "flex_flow": null,
      "grid_area": null,
      "grid_auto_columns": null,
      "grid_auto_flow": null,
      "grid_auto_rows": null,
      "grid_column": null,
      "grid_gap": null,
      "grid_row": null,
      "grid_template_areas": null,
      "grid_template_columns": null,
      "grid_template_rows": null,
      "height": null,
      "justify_content": null,
      "justify_items": null,
      "left": null,
      "margin": null,
      "max_height": null,
      "max_width": null,
      "min_height": null,
      "min_width": null,
      "object_fit": null,
      "object_position": null,
      "order": null,
      "overflow": null,
      "overflow_x": null,
      "overflow_y": null,
      "padding": null,
      "right": null,
      "top": null,
      "visibility": null,
      "width": null
     }
    },
    "e6f1144742854327b0616c871065f3b9": {
     "model_module": "@jupyter-widgets/controls",
     "model_module_version": "1.5.0",
     "model_name": "HTMLModel",
     "state": {
      "_dom_classes": [],
      "_model_module": "@jupyter-widgets/controls",
      "_model_module_version": "1.5.0",
      "_model_name": "HTMLModel",
      "_view_count": null,
      "_view_module": "@jupyter-widgets/controls",
      "_view_module_version": "1.5.0",
      "_view_name": "HTMLView",
      "description": "",
      "description_tooltip": null,
      "layout": "IPY_MODEL_bdb06f2571c2401eb9d3d4312b6c3cdf",
      "placeholder": "​",
      "style": "IPY_MODEL_2a429405ecb94296b145ad2eb381bdc1",
      "value": " 30/30 [00:06&lt;00:00,  4.93it/s]"
     }
    },
    "ea327ce23212465e88baf32bb618befa": {
     "model_module": "@jupyter-widgets/base",
     "model_module_version": "1.2.0",
     "model_name": "LayoutModel",
     "state": {
      "_model_module": "@jupyter-widgets/base",
      "_model_module_version": "1.2.0",
      "_model_name": "LayoutModel",
      "_view_count": null,
      "_view_module": "@jupyter-widgets/base",
      "_view_module_version": "1.2.0",
      "_view_name": "LayoutView",
      "align_content": null,
      "align_items": null,
      "align_self": null,
      "border": null,
      "bottom": null,
      "display": null,
      "flex": null,
      "flex_flow": null,
      "grid_area": null,
      "grid_auto_columns": null,
      "grid_auto_flow": null,
      "grid_auto_rows": null,
      "grid_column": null,
      "grid_gap": null,
      "grid_row": null,
      "grid_template_areas": null,
      "grid_template_columns": null,
      "grid_template_rows": null,
      "height": null,
      "justify_content": null,
      "justify_items": null,
      "left": null,
      "margin": null,
      "max_height": null,
      "max_width": null,
      "min_height": null,
      "min_width": null,
      "object_fit": null,
      "object_position": null,
      "order": null,
      "overflow": null,
      "overflow_x": null,
      "overflow_y": null,
      "padding": null,
      "right": null,
      "top": null,
      "visibility": null,
      "width": null
     }
    },
    "f1e171c8a25a46f69280286bc61d19c7": {
     "model_module": "@jupyter-widgets/controls",
     "model_module_version": "1.5.0",
     "model_name": "ProgressStyleModel",
     "state": {
      "_model_module": "@jupyter-widgets/controls",
      "_model_module_version": "1.5.0",
      "_model_name": "ProgressStyleModel",
      "_view_count": null,
      "_view_module": "@jupyter-widgets/base",
      "_view_module_version": "1.2.0",
      "_view_name": "StyleView",
      "bar_color": null,
      "description_width": ""
     }
    },
    "fb5ac4b938c64b1e99a1d5807246ac77": {
     "model_module": "@jupyter-widgets/base",
     "model_module_version": "1.2.0",
     "model_name": "LayoutModel",
     "state": {
      "_model_module": "@jupyter-widgets/base",
      "_model_module_version": "1.2.0",
      "_model_name": "LayoutModel",
      "_view_count": null,
      "_view_module": "@jupyter-widgets/base",
      "_view_module_version": "1.2.0",
      "_view_name": "LayoutView",
      "align_content": null,
      "align_items": null,
      "align_self": null,
      "border": null,
      "bottom": null,
      "display": null,
      "flex": null,
      "flex_flow": null,
      "grid_area": null,
      "grid_auto_columns": null,
      "grid_auto_flow": null,
      "grid_auto_rows": null,
      "grid_column": null,
      "grid_gap": null,
      "grid_row": null,
      "grid_template_areas": null,
      "grid_template_columns": null,
      "grid_template_rows": null,
      "height": null,
      "justify_content": null,
      "justify_items": null,
      "left": null,
      "margin": null,
      "max_height": null,
      "max_width": null,
      "min_height": null,
      "min_width": null,
      "object_fit": null,
      "object_position": null,
      "order": null,
      "overflow": null,
      "overflow_x": null,
      "overflow_y": null,
      "padding": null,
      "right": null,
      "top": null,
      "visibility": null,
      "width": null
     }
    }
   }
  }
 },
 "nbformat": 4,
 "nbformat_minor": 0
}
